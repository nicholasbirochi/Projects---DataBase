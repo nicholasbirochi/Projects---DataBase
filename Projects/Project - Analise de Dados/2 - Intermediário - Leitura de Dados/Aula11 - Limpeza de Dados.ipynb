{
 "cells": [
  {
   "cell_type": "code",
   "execution_count": 1,
   "id": "570b3852-babb-4422-a992-07b5f27d16aa",
   "metadata": {},
   "outputs": [],
   "source": [
    "#Utilize como base todos os passos vistos na Aula10:\n",
    "import pandas as pd"
   ]
  },
  {
   "cell_type": "code",
   "execution_count": 2,
   "id": "dc2e1ee1-7ecb-44de-a8cb-a3f432094432",
   "metadata": {},
   "outputs": [],
   "source": [
    "dfClientes = pd.read_excel('caso_estudo.xlsx', sheet_name = 'clientes')\n",
    "dfLojas = pd.read_excel('caso_estudo.xlsx', sheet_name = 'lojas')\n",
    "dfPagamentos = pd.read_excel('caso_estudo.xlsx', sheet_name = 'pagamentos')\n",
    "dfProdutos = pd.read_excel('caso_estudo.xlsx', sheet_name = 'produtos')\n",
    "dfVendas = pd.read_excel('caso_estudo.xlsx', sheet_name = 'vendas')"
   ]
  },
  {
   "cell_type": "markdown",
   "id": "db92f15e-5b74-4b87-8132-8aec59f37be1",
   "metadata": {},
   "source": [
    "# Data Cleaning"
   ]
  },
  {
   "cell_type": "markdown",
   "id": "6e4b2eee-8c10-4fc7-9daa-71707a6b7ee8",
   "metadata": {},
   "source": [
    "## Dados Nulos"
   ]
  },
  {
   "cell_type": "code",
   "execution_count": 5,
   "id": "75aa86fc-a34c-4804-a708-62364e08ce10",
   "metadata": {},
   "outputs": [],
   "source": [
    "#Esse caso está substituindo os valores nulos por informações que são possíveis de rastrear depois:\n",
    "dfClientes.loc[dfClientes.nome.isnull(),'nome'] = 'Sem Nome'\n",
    "dfClientes.loc[dfClientes.sexo.isnull(),'sexo'] = 'O'\n",
    "dfClientes.loc[dfClientes.dt_nasc.isnull(),'dt_nasc'] = '01/01/2020'"
   ]
  },
  {
   "cell_type": "code",
   "execution_count": 6,
   "id": "3ff3a6d4-1e81-48f4-8522-20b01a170e2f",
   "metadata": {},
   "outputs": [
    {
     "data": {
      "text/html": [
       "<div>\n",
       "<style scoped>\n",
       "    .dataframe tbody tr th:only-of-type {\n",
       "        vertical-align: middle;\n",
       "    }\n",
       "\n",
       "    .dataframe tbody tr th {\n",
       "        vertical-align: top;\n",
       "    }\n",
       "\n",
       "    .dataframe thead th {\n",
       "        text-align: right;\n",
       "    }\n",
       "</style>\n",
       "<table border=\"1\" class=\"dataframe\">\n",
       "  <thead>\n",
       "    <tr style=\"text-align: right;\">\n",
       "      <th></th>\n",
       "      <th>id</th>\n",
       "      <th>nome</th>\n",
       "      <th>sexo</th>\n",
       "      <th>dt_nasc</th>\n",
       "    </tr>\n",
       "  </thead>\n",
       "  <tbody>\n",
       "    <tr>\n",
       "      <th>269</th>\n",
       "      <td>270</td>\n",
       "      <td>Sem Nome</td>\n",
       "      <td>M</td>\n",
       "      <td>01/01/2020</td>\n",
       "    </tr>\n",
       "    <tr>\n",
       "      <th>287</th>\n",
       "      <td>288</td>\n",
       "      <td>Victor Ribeiro</td>\n",
       "      <td>O</td>\n",
       "      <td>12/17/1974</td>\n",
       "    </tr>\n",
       "  </tbody>\n",
       "</table>\n",
       "</div>"
      ],
      "text/plain": [
       "      id            nome sexo     dt_nasc\n",
       "269  270        Sem Nome    M  01/01/2020\n",
       "287  288  Victor Ribeiro    O  12/17/1974"
      ]
     },
     "execution_count": 6,
     "metadata": {},
     "output_type": "execute_result"
    }
   ],
   "source": [
    "#Buscando dois casos de informação nula visto na Aula10:\n",
    "dfClientes.loc[[269,287], :]"
   ]
  },
  {
   "cell_type": "code",
   "execution_count": 7,
   "id": "84ee5c1b-e174-422b-b81c-a3aa11bda9e9",
   "metadata": {},
   "outputs": [
    {
     "data": {
      "text/plain": [
       "id         0\n",
       "nome       0\n",
       "sexo       0\n",
       "dt_nasc    0\n",
       "dtype: int64"
      ]
     },
     "execution_count": 7,
     "metadata": {},
     "output_type": "execute_result"
    }
   ],
   "source": [
    "#Mostrando que não há mais dados nulos\n",
    "dfClientes.isnull().sum()"
   ]
  },
  {
   "cell_type": "markdown",
   "id": "6a379047-5faa-4d9b-80fa-4ddc6e5ccdc3",
   "metadata": {},
   "source": [
    "## Outliers"
   ]
  },
  {
   "cell_type": "code",
   "execution_count": 9,
   "id": "cf70e5d8-b442-48d9-a605-9e90e34d892e",
   "metadata": {},
   "outputs": [
    {
     "data": {
      "text/html": [
       "<div>\n",
       "<style scoped>\n",
       "    .dataframe tbody tr th:only-of-type {\n",
       "        vertical-align: middle;\n",
       "    }\n",
       "\n",
       "    .dataframe tbody tr th {\n",
       "        vertical-align: top;\n",
       "    }\n",
       "\n",
       "    .dataframe thead th {\n",
       "        text-align: right;\n",
       "    }\n",
       "</style>\n",
       "<table border=\"1\" class=\"dataframe\">\n",
       "  <thead>\n",
       "    <tr style=\"text-align: right;\">\n",
       "      <th></th>\n",
       "      <th>id</th>\n",
       "      <th>produto</th>\n",
       "      <th>valor</th>\n",
       "    </tr>\n",
       "  </thead>\n",
       "  <tbody>\n",
       "    <tr>\n",
       "      <th>0</th>\n",
       "      <td>1</td>\n",
       "      <td>mouse</td>\n",
       "      <td>20.0</td>\n",
       "    </tr>\n",
       "    <tr>\n",
       "      <th>1</th>\n",
       "      <td>2</td>\n",
       "      <td>teclado</td>\n",
       "      <td>30.0</td>\n",
       "    </tr>\n",
       "    <tr>\n",
       "      <th>2</th>\n",
       "      <td>3</td>\n",
       "      <td>laptop básico</td>\n",
       "      <td>2300.0</td>\n",
       "    </tr>\n",
       "    <tr>\n",
       "      <th>3</th>\n",
       "      <td>4</td>\n",
       "      <td>laptop gamer</td>\n",
       "      <td>5300.0</td>\n",
       "    </tr>\n",
       "    <tr>\n",
       "      <th>4</th>\n",
       "      <td>5</td>\n",
       "      <td>monitor</td>\n",
       "      <td>1500.0</td>\n",
       "    </tr>\n",
       "    <tr>\n",
       "      <th>5</th>\n",
       "      <td>6</td>\n",
       "      <td>impressora</td>\n",
       "      <td>700.0</td>\n",
       "    </tr>\n",
       "    <tr>\n",
       "      <th>6</th>\n",
       "      <td>7</td>\n",
       "      <td>carregador</td>\n",
       "      <td>150.0</td>\n",
       "    </tr>\n",
       "    <tr>\n",
       "      <th>7</th>\n",
       "      <td>8</td>\n",
       "      <td>cadeira</td>\n",
       "      <td>540.0</td>\n",
       "    </tr>\n",
       "    <tr>\n",
       "      <th>8</th>\n",
       "      <td>9</td>\n",
       "      <td>mesa</td>\n",
       "      <td>860.0</td>\n",
       "    </tr>\n",
       "    <tr>\n",
       "      <th>9</th>\n",
       "      <td>10</td>\n",
       "      <td>xxx-231a</td>\n",
       "      <td>3211352.0</td>\n",
       "    </tr>\n",
       "  </tbody>\n",
       "</table>\n",
       "</div>"
      ],
      "text/plain": [
       "   id        produto      valor\n",
       "0   1          mouse       20.0\n",
       "1   2        teclado       30.0\n",
       "2   3  laptop básico     2300.0\n",
       "3   4   laptop gamer     5300.0\n",
       "4   5        monitor     1500.0\n",
       "5   6     impressora      700.0\n",
       "6   7     carregador      150.0\n",
       "7   8        cadeira      540.0\n",
       "8   9           mesa      860.0\n",
       "9  10       xxx-231a  3211352.0"
      ]
     },
     "execution_count": 9,
     "metadata": {},
     "output_type": "execute_result"
    }
   ],
   "source": [
    "#Buscando por informações muito fora do padrão, nesse caso por dados numéricos, tem algumas que só possuem o id, por isso\n",
    "#utilizaremos apenas a tabela Produtos, não esquecendo que foi utilizado uma ferramenta 'boxplot' para o tal anteriormente:\n",
    "dfClientes\n",
    "dfLojas\n",
    "dfVendas\n",
    "dfPagamentos\n",
    "dfProdutos"
   ]
  },
  {
   "cell_type": "code",
   "execution_count": 10,
   "id": "255cdeab-8511-4100-9c7f-dbb0bdfa9d42",
   "metadata": {},
   "outputs": [
    {
     "data": {
      "text/html": [
       "<div>\n",
       "<style scoped>\n",
       "    .dataframe tbody tr th:only-of-type {\n",
       "        vertical-align: middle;\n",
       "    }\n",
       "\n",
       "    .dataframe tbody tr th {\n",
       "        vertical-align: top;\n",
       "    }\n",
       "\n",
       "    .dataframe thead th {\n",
       "        text-align: right;\n",
       "    }\n",
       "</style>\n",
       "<table border=\"1\" class=\"dataframe\">\n",
       "  <thead>\n",
       "    <tr style=\"text-align: right;\">\n",
       "      <th></th>\n",
       "      <th>id</th>\n",
       "      <th>produto</th>\n",
       "      <th>valor</th>\n",
       "    </tr>\n",
       "  </thead>\n",
       "  <tbody>\n",
       "    <tr>\n",
       "      <th>0</th>\n",
       "      <td>1</td>\n",
       "      <td>mouse</td>\n",
       "      <td>20.0000</td>\n",
       "    </tr>\n",
       "    <tr>\n",
       "      <th>1</th>\n",
       "      <td>2</td>\n",
       "      <td>teclado</td>\n",
       "      <td>30.0000</td>\n",
       "    </tr>\n",
       "    <tr>\n",
       "      <th>2</th>\n",
       "      <td>3</td>\n",
       "      <td>laptop básico</td>\n",
       "      <td>2300.0000</td>\n",
       "    </tr>\n",
       "    <tr>\n",
       "      <th>3</th>\n",
       "      <td>4</td>\n",
       "      <td>laptop gamer</td>\n",
       "      <td>5300.0000</td>\n",
       "    </tr>\n",
       "    <tr>\n",
       "      <th>4</th>\n",
       "      <td>5</td>\n",
       "      <td>monitor</td>\n",
       "      <td>1500.0000</td>\n",
       "    </tr>\n",
       "    <tr>\n",
       "      <th>5</th>\n",
       "      <td>6</td>\n",
       "      <td>impressora</td>\n",
       "      <td>700.0000</td>\n",
       "    </tr>\n",
       "    <tr>\n",
       "      <th>6</th>\n",
       "      <td>7</td>\n",
       "      <td>carregador</td>\n",
       "      <td>150.0000</td>\n",
       "    </tr>\n",
       "    <tr>\n",
       "      <th>7</th>\n",
       "      <td>8</td>\n",
       "      <td>cadeira</td>\n",
       "      <td>540.0000</td>\n",
       "    </tr>\n",
       "    <tr>\n",
       "      <th>8</th>\n",
       "      <td>9</td>\n",
       "      <td>mesa</td>\n",
       "      <td>860.0000</td>\n",
       "    </tr>\n",
       "    <tr>\n",
       "      <th>9</th>\n",
       "      <td>10</td>\n",
       "      <td>xxx-231a</td>\n",
       "      <td>321.1352</td>\n",
       "    </tr>\n",
       "  </tbody>\n",
       "</table>\n",
       "</div>"
      ],
      "text/plain": [
       "   id        produto      valor\n",
       "0   1          mouse    20.0000\n",
       "1   2        teclado    30.0000\n",
       "2   3  laptop básico  2300.0000\n",
       "3   4   laptop gamer  5300.0000\n",
       "4   5        monitor  1500.0000\n",
       "5   6     impressora   700.0000\n",
       "6   7     carregador   150.0000\n",
       "7   8        cadeira   540.0000\n",
       "8   9           mesa   860.0000\n",
       "9  10       xxx-231a   321.1352"
      ]
     },
     "execution_count": 10,
     "metadata": {},
     "output_type": "execute_result"
    }
   ],
   "source": [
    "#Manipulando o valor do produto 'xxx-231a' para chegar em um valor real:\n",
    "dfProdutos.loc[9, 'valor'] = dfProdutos.valor[9]/10000\n",
    "dfProdutos"
   ]
  },
  {
   "cell_type": "code",
   "execution_count": 11,
   "id": "6bb4efc8-b7c9-44f0-b7d5-fd1c032b9524",
   "metadata": {},
   "outputs": [
    {
     "data": {
      "text/plain": [
       "<Axes: >"
      ]
     },
     "execution_count": 11,
     "metadata": {},
     "output_type": "execute_result"
    },
    {
     "data": {
      "image/png": "[encoded data removed]",
      "text/plain": [
       "<Figure size 640x480 with 1 Axes>"
      ]
     },
     "metadata": {},
     "output_type": "display_data"
    }
   ],
   "source": [
    "#Ainda irá existir um outlier, mas é um outlier esperado:\n",
    "dfProdutos.boxplot(column = ['valor'])"
   ]
  },
  {
   "cell_type": "markdown",
   "id": "fb63688c-9b99-4d6a-8569-1b1a8fdf4005",
   "metadata": {},
   "source": [
    "## Consistência"
   ]
  },
  {
   "cell_type": "code",
   "execution_count": 13,
   "id": "d96aac8b-c85b-46bf-9dcc-dfc9a64c25cd",
   "metadata": {},
   "outputs": [
    {
     "data": {
      "text/plain": [
       "False"
      ]
     },
     "execution_count": 13,
     "metadata": {},
     "output_type": "execute_result"
    }
   ],
   "source": [
    "#Buscando ids de clientes que não estão sendo citados dentro da tabela Vendas:\n",
    "~dfVendas.id_cliente.isin(dfClientes.id).any()\n",
    "#O '~' se refere a uma negação, 'isin' verifica se estão dentro e o any() diz se 'True' ou 'False'..."
   ]
  },
  {
   "cell_type": "code",
   "execution_count": 14,
   "id": "37b18843-32e2-46a8-836d-7098abc495ae",
   "metadata": {},
   "outputs": [
    {
     "data": {
      "text/html": [
       "<div>\n",
       "<style scoped>\n",
       "    .dataframe tbody tr th:only-of-type {\n",
       "        vertical-align: middle;\n",
       "    }\n",
       "\n",
       "    .dataframe tbody tr th {\n",
       "        vertical-align: top;\n",
       "    }\n",
       "\n",
       "    .dataframe thead th {\n",
       "        text-align: right;\n",
       "    }\n",
       "</style>\n",
       "<table border=\"1\" class=\"dataframe\">\n",
       "  <thead>\n",
       "    <tr style=\"text-align: right;\">\n",
       "      <th></th>\n",
       "      <th>id</th>\n",
       "      <th>id_cliente</th>\n",
       "      <th>id_loja</th>\n",
       "      <th>id_produto</th>\n",
       "      <th>dt_venda</th>\n",
       "    </tr>\n",
       "  </thead>\n",
       "  <tbody>\n",
       "  </tbody>\n",
       "</table>\n",
       "</div>"
      ],
      "text/plain": [
       "Empty DataFrame\n",
       "Columns: [id, id_cliente, id_loja, id_produto, dt_venda]\n",
       "Index: []"
      ]
     },
     "execution_count": 14,
     "metadata": {},
     "output_type": "execute_result"
    }
   ],
   "source": [
    "#Para visualização:\n",
    "dfVendas[~dfVendas.id_cliente.isin(dfClientes.id)]"
   ]
  },
  {
   "cell_type": "code",
   "execution_count": 15,
   "id": "e76d515c-87c3-4b21-9f8b-303cadd85494",
   "metadata": {},
   "outputs": [
    {
     "data": {
      "text/html": [
       "<div>\n",
       "<style scoped>\n",
       "    .dataframe tbody tr th:only-of-type {\n",
       "        vertical-align: middle;\n",
       "    }\n",
       "\n",
       "    .dataframe tbody tr th {\n",
       "        vertical-align: top;\n",
       "    }\n",
       "\n",
       "    .dataframe thead th {\n",
       "        text-align: right;\n",
       "    }\n",
       "</style>\n",
       "<table border=\"1\" class=\"dataframe\">\n",
       "  <thead>\n",
       "    <tr style=\"text-align: right;\">\n",
       "      <th></th>\n",
       "      <th>id</th>\n",
       "      <th>id_cliente</th>\n",
       "      <th>id_loja</th>\n",
       "      <th>id_produto</th>\n",
       "      <th>dt_venda</th>\n",
       "    </tr>\n",
       "  </thead>\n",
       "  <tbody>\n",
       "  </tbody>\n",
       "</table>\n",
       "</div>"
      ],
      "text/plain": [
       "Empty DataFrame\n",
       "Columns: [id, id_cliente, id_loja, id_produto, dt_venda]\n",
       "Index: []"
      ]
     },
     "execution_count": 15,
     "metadata": {},
     "output_type": "execute_result"
    }
   ],
   "source": [
    "dfVendas[~dfVendas.id_loja.isin(dfLojas.id)]"
   ]
  },
  {
   "cell_type": "code",
   "execution_count": 16,
   "id": "02dc08ce-bd99-4535-a743-b1359c73ed63",
   "metadata": {},
   "outputs": [
    {
     "data": {
      "text/html": [
       "<div>\n",
       "<style scoped>\n",
       "    .dataframe tbody tr th:only-of-type {\n",
       "        vertical-align: middle;\n",
       "    }\n",
       "\n",
       "    .dataframe tbody tr th {\n",
       "        vertical-align: top;\n",
       "    }\n",
       "\n",
       "    .dataframe thead th {\n",
       "        text-align: right;\n",
       "    }\n",
       "</style>\n",
       "<table border=\"1\" class=\"dataframe\">\n",
       "  <thead>\n",
       "    <tr style=\"text-align: right;\">\n",
       "      <th></th>\n",
       "      <th>id</th>\n",
       "      <th>id_cliente</th>\n",
       "      <th>id_loja</th>\n",
       "      <th>id_produto</th>\n",
       "      <th>dt_venda</th>\n",
       "    </tr>\n",
       "  </thead>\n",
       "  <tbody>\n",
       "  </tbody>\n",
       "</table>\n",
       "</div>"
      ],
      "text/plain": [
       "Empty DataFrame\n",
       "Columns: [id, id_cliente, id_loja, id_produto, dt_venda]\n",
       "Index: []"
      ]
     },
     "execution_count": 16,
     "metadata": {},
     "output_type": "execute_result"
    }
   ],
   "source": [
    "dfVendas[~dfVendas.id_produto.isin(dfProdutos.id)]"
   ]
  },
  {
   "cell_type": "code",
   "execution_count": 17,
   "id": "e040d99a-038d-4cb4-ae1f-6fc2d6a70128",
   "metadata": {},
   "outputs": [
    {
     "data": {
      "text/html": [
       "<div>\n",
       "<style scoped>\n",
       "    .dataframe tbody tr th:only-of-type {\n",
       "        vertical-align: middle;\n",
       "    }\n",
       "\n",
       "    .dataframe tbody tr th {\n",
       "        vertical-align: top;\n",
       "    }\n",
       "\n",
       "    .dataframe thead th {\n",
       "        text-align: right;\n",
       "    }\n",
       "</style>\n",
       "<table border=\"1\" class=\"dataframe\">\n",
       "  <thead>\n",
       "    <tr style=\"text-align: right;\">\n",
       "      <th></th>\n",
       "      <th>id</th>\n",
       "      <th>id_venda</th>\n",
       "      <th>dt_pgto</th>\n",
       "    </tr>\n",
       "  </thead>\n",
       "  <tbody>\n",
       "  </tbody>\n",
       "</table>\n",
       "</div>"
      ],
      "text/plain": [
       "Empty DataFrame\n",
       "Columns: [id, id_venda, dt_pgto]\n",
       "Index: []"
      ]
     },
     "execution_count": 17,
     "metadata": {},
     "output_type": "execute_result"
    }
   ],
   "source": [
    "#Vendo se existe algum pagamento com um id que não foi registrado ainda na tabela vendas:\n",
    "dfPagamentos[~dfPagamentos.id_venda.isin(dfVendas.id)]"
   ]
  },
  {
   "cell_type": "code",
   "execution_count": 18,
   "id": "df021ae9-9207-4f19-8c95-6a0727bb05ad",
   "metadata": {},
   "outputs": [
    {
     "data": {
      "text/plain": [
       "id            928\n",
       "id_cliente    928\n",
       "id_loja       928\n",
       "id_produto    928\n",
       "dt_venda      928\n",
       "dtype: int64"
      ]
     },
     "execution_count": 18,
     "metadata": {},
     "output_type": "execute_result"
    }
   ],
   "source": [
    "#O inverso, quantidade de vendas que não geraram pagamentos:\n",
    "dfVendas[~dfVendas.id.isin(dfPagamentos.id)].count()"
   ]
  },
  {
   "cell_type": "markdown",
   "id": "a30e82a5-a2f9-49fe-9aaf-2502e16c0f04",
   "metadata": {},
   "source": [
    "## Dados Duplicados"
   ]
  },
  {
   "cell_type": "code",
   "execution_count": 20,
   "id": "9ddc34ba-1883-43e4-ae59-ea6d8acc5d59",
   "metadata": {},
   "outputs": [
    {
     "data": {
      "text/html": [
       "<div>\n",
       "<style scoped>\n",
       "    .dataframe tbody tr th:only-of-type {\n",
       "        vertical-align: middle;\n",
       "    }\n",
       "\n",
       "    .dataframe tbody tr th {\n",
       "        vertical-align: top;\n",
       "    }\n",
       "\n",
       "    .dataframe thead th {\n",
       "        text-align: right;\n",
       "    }\n",
       "</style>\n",
       "<table border=\"1\" class=\"dataframe\">\n",
       "  <thead>\n",
       "    <tr style=\"text-align: right;\">\n",
       "      <th></th>\n",
       "      <th>id</th>\n",
       "      <th>nome</th>\n",
       "      <th>sexo</th>\n",
       "      <th>dt_nasc</th>\n",
       "    </tr>\n",
       "  </thead>\n",
       "  <tbody>\n",
       "    <tr>\n",
       "      <th>79</th>\n",
       "      <td>80</td>\n",
       "      <td>Anna Melo</td>\n",
       "      <td>F</td>\n",
       "      <td>8/10/1999</td>\n",
       "    </tr>\n",
       "    <tr>\n",
       "      <th>96</th>\n",
       "      <td>97</td>\n",
       "      <td>Beatrice Goncalves</td>\n",
       "      <td>F</td>\n",
       "      <td>11/22/1964</td>\n",
       "    </tr>\n",
       "    <tr>\n",
       "      <th>138</th>\n",
       "      <td>139</td>\n",
       "      <td>Kauê Araujo</td>\n",
       "      <td>M</td>\n",
       "      <td>5/31/1974</td>\n",
       "    </tr>\n",
       "    <tr>\n",
       "      <th>139</th>\n",
       "      <td>140</td>\n",
       "      <td>Leonor Sousa</td>\n",
       "      <td>F</td>\n",
       "      <td>8/2/1981</td>\n",
       "    </tr>\n",
       "    <tr>\n",
       "      <th>154</th>\n",
       "      <td>155</td>\n",
       "      <td>Luis Rodrigues</td>\n",
       "      <td>M</td>\n",
       "      <td>7/3/1973</td>\n",
       "    </tr>\n",
       "    <tr>\n",
       "      <th>...</th>\n",
       "      <td>...</td>\n",
       "      <td>...</td>\n",
       "      <td>...</td>\n",
       "      <td>...</td>\n",
       "    </tr>\n",
       "    <tr>\n",
       "      <th>986</th>\n",
       "      <td>987</td>\n",
       "      <td>Beatriz Cardoso</td>\n",
       "      <td>F</td>\n",
       "      <td>7/17/1984</td>\n",
       "    </tr>\n",
       "    <tr>\n",
       "      <th>990</th>\n",
       "      <td>991</td>\n",
       "      <td>Diogo Melo</td>\n",
       "      <td>M</td>\n",
       "      <td>7/24/2001</td>\n",
       "    </tr>\n",
       "    <tr>\n",
       "      <th>993</th>\n",
       "      <td>994</td>\n",
       "      <td>Eduardo Costa</td>\n",
       "      <td>M</td>\n",
       "      <td>12/18/1963</td>\n",
       "    </tr>\n",
       "    <tr>\n",
       "      <th>996</th>\n",
       "      <td>997</td>\n",
       "      <td>Laura Oliveira</td>\n",
       "      <td>F</td>\n",
       "      <td>6/15/1979</td>\n",
       "    </tr>\n",
       "    <tr>\n",
       "      <th>999</th>\n",
       "      <td>1000</td>\n",
       "      <td>Gustavo Barbosa</td>\n",
       "      <td>M</td>\n",
       "      <td>12/30/1975</td>\n",
       "    </tr>\n",
       "  </tbody>\n",
       "</table>\n",
       "<p>109 rows × 4 columns</p>\n",
       "</div>"
      ],
      "text/plain": [
       "       id                nome sexo     dt_nasc\n",
       "79     80           Anna Melo    F   8/10/1999\n",
       "96     97  Beatrice Goncalves    F  11/22/1964\n",
       "138   139         Kauê Araujo    M   5/31/1974\n",
       "139   140        Leonor Sousa    F    8/2/1981\n",
       "154   155      Luis Rodrigues    M    7/3/1973\n",
       "..    ...                 ...  ...         ...\n",
       "986   987     Beatriz Cardoso    F   7/17/1984\n",
       "990   991          Diogo Melo    M   7/24/2001\n",
       "993   994       Eduardo Costa    M  12/18/1963\n",
       "996   997      Laura Oliveira    F   6/15/1979\n",
       "999  1000     Gustavo Barbosa    M  12/30/1975\n",
       "\n",
       "[109 rows x 4 columns]"
      ]
     },
     "execution_count": 20,
     "metadata": {},
     "output_type": "execute_result"
    }
   ],
   "source": [
    "dfClientes[dfClientes.nome.duplicated()]"
   ]
  },
  {
   "cell_type": "code",
   "execution_count": 21,
   "id": "80196451-fbac-4cee-ba4c-77016a3b9d51",
   "metadata": {},
   "outputs": [
    {
     "data": {
      "text/html": [
       "<div>\n",
       "<style scoped>\n",
       "    .dataframe tbody tr th:only-of-type {\n",
       "        vertical-align: middle;\n",
       "    }\n",
       "\n",
       "    .dataframe tbody tr th {\n",
       "        vertical-align: top;\n",
       "    }\n",
       "\n",
       "    .dataframe thead th {\n",
       "        text-align: right;\n",
       "    }\n",
       "</style>\n",
       "<table border=\"1\" class=\"dataframe\">\n",
       "  <thead>\n",
       "    <tr style=\"text-align: right;\">\n",
       "      <th></th>\n",
       "      <th>id</th>\n",
       "      <th>nome</th>\n",
       "      <th>sexo</th>\n",
       "      <th>dt_nasc</th>\n",
       "    </tr>\n",
       "  </thead>\n",
       "  <tbody>\n",
       "    <tr>\n",
       "      <th>66</th>\n",
       "      <td>67</td>\n",
       "      <td>Anna Melo</td>\n",
       "      <td>F</td>\n",
       "      <td>11/6/1995</td>\n",
       "    </tr>\n",
       "    <tr>\n",
       "      <th>79</th>\n",
       "      <td>80</td>\n",
       "      <td>Anna Melo</td>\n",
       "      <td>F</td>\n",
       "      <td>8/10/1999</td>\n",
       "    </tr>\n",
       "  </tbody>\n",
       "</table>\n",
       "</div>"
      ],
      "text/plain": [
       "    id       nome sexo    dt_nasc\n",
       "66  67  Anna Melo    F  11/6/1995\n",
       "79  80  Anna Melo    F  8/10/1999"
      ]
     },
     "execution_count": 21,
     "metadata": {},
     "output_type": "execute_result"
    }
   ],
   "source": [
    "dfClientes[dfClientes.nome == 'Anna Melo']"
   ]
  },
  {
   "cell_type": "code",
   "execution_count": 22,
   "id": "906cb19d-afbe-41a2-a04c-516369e0c71b",
   "metadata": {},
   "outputs": [
    {
     "data": {
      "text/plain": [
       "0"
      ]
     },
     "execution_count": 22,
     "metadata": {},
     "output_type": "execute_result"
    }
   ],
   "source": [
    "dfClientes.drop('id', axis = 1).duplicated().sum()"
   ]
  },
  {
   "cell_type": "code",
   "execution_count": 23,
   "id": "66fcb048-fb8d-4829-82ff-7f9e5945102c",
   "metadata": {},
   "outputs": [
    {
     "data": {
      "text/plain": [
       "0"
      ]
     },
     "execution_count": 23,
     "metadata": {},
     "output_type": "execute_result"
    }
   ],
   "source": [
    "dfProdutos.produto.duplicated().sum()"
   ]
  },
  {
   "cell_type": "code",
   "execution_count": 24,
   "id": "8eae8311-0def-4689-a76e-5e4286e855e7",
   "metadata": {},
   "outputs": [
    {
     "data": {
      "text/plain": [
       "0"
      ]
     },
     "execution_count": 24,
     "metadata": {},
     "output_type": "execute_result"
    }
   ],
   "source": [
    "dfLojas.cidade.duplicated().sum()"
   ]
  },
  {
   "cell_type": "code",
   "execution_count": 25,
   "id": "c7400652-5dc6-4a16-9def-8c5823719d90",
   "metadata": {},
   "outputs": [
    {
     "data": {
      "text/plain": [
       "1"
      ]
     },
     "execution_count": 25,
     "metadata": {},
     "output_type": "execute_result"
    }
   ],
   "source": [
    "#Descobrindo que repete uma venda:\n",
    "dfVendas.drop('id', axis = 1).duplicated().sum()"
   ]
  },
  {
   "cell_type": "code",
   "execution_count": 26,
   "id": "fd893b9a-6929-456e-ae2f-f0442de84df1",
   "metadata": {},
   "outputs": [
    {
     "data": {
      "text/html": [
       "<div>\n",
       "<style scoped>\n",
       "    .dataframe tbody tr th:only-of-type {\n",
       "        vertical-align: middle;\n",
       "    }\n",
       "\n",
       "    .dataframe tbody tr th {\n",
       "        vertical-align: top;\n",
       "    }\n",
       "\n",
       "    .dataframe thead th {\n",
       "        text-align: right;\n",
       "    }\n",
       "</style>\n",
       "<table border=\"1\" class=\"dataframe\">\n",
       "  <thead>\n",
       "    <tr style=\"text-align: right;\">\n",
       "      <th></th>\n",
       "      <th>id</th>\n",
       "      <th>id_cliente</th>\n",
       "      <th>id_loja</th>\n",
       "      <th>id_produto</th>\n",
       "      <th>dt_venda</th>\n",
       "    </tr>\n",
       "  </thead>\n",
       "  <tbody>\n",
       "    <tr>\n",
       "      <th>496</th>\n",
       "      <td>497</td>\n",
       "      <td>559</td>\n",
       "      <td>2</td>\n",
       "      <td>5</td>\n",
       "      <td>2018-06-22</td>\n",
       "    </tr>\n",
       "  </tbody>\n",
       "</table>\n",
       "</div>"
      ],
      "text/plain": [
       "      id  id_cliente  id_loja  id_produto   dt_venda\n",
       "496  497         559        2           5 2018-06-22"
      ]
     },
     "execution_count": 26,
     "metadata": {},
     "output_type": "execute_result"
    }
   ],
   "source": [
    "#Analisando ela:\n",
    "dfVendas[dfVendas.drop('id', axis = 1).duplicated()]"
   ]
  },
  {
   "cell_type": "code",
   "execution_count": 27,
   "id": "b4a62c03-5569-4be0-b7ea-51f005f9e7cc",
   "metadata": {},
   "outputs": [
    {
     "data": {
      "text/html": [
       "<div>\n",
       "<style scoped>\n",
       "    .dataframe tbody tr th:only-of-type {\n",
       "        vertical-align: middle;\n",
       "    }\n",
       "\n",
       "    .dataframe tbody tr th {\n",
       "        vertical-align: top;\n",
       "    }\n",
       "\n",
       "    .dataframe thead th {\n",
       "        text-align: right;\n",
       "    }\n",
       "</style>\n",
       "<table border=\"1\" class=\"dataframe\">\n",
       "  <thead>\n",
       "    <tr style=\"text-align: right;\">\n",
       "      <th></th>\n",
       "      <th>id</th>\n",
       "      <th>id_cliente</th>\n",
       "      <th>id_loja</th>\n",
       "      <th>id_produto</th>\n",
       "      <th>dt_venda</th>\n",
       "    </tr>\n",
       "  </thead>\n",
       "  <tbody>\n",
       "    <tr>\n",
       "      <th>495</th>\n",
       "      <td>496</td>\n",
       "      <td>559</td>\n",
       "      <td>2</td>\n",
       "      <td>5</td>\n",
       "      <td>2018-06-22</td>\n",
       "    </tr>\n",
       "    <tr>\n",
       "      <th>496</th>\n",
       "      <td>497</td>\n",
       "      <td>559</td>\n",
       "      <td>2</td>\n",
       "      <td>5</td>\n",
       "      <td>2018-06-22</td>\n",
       "    </tr>\n",
       "  </tbody>\n",
       "</table>\n",
       "</div>"
      ],
      "text/plain": [
       "      id  id_cliente  id_loja  id_produto   dt_venda\n",
       "495  496         559        2           5 2018-06-22\n",
       "496  497         559        2           5 2018-06-22"
      ]
     },
     "execution_count": 27,
     "metadata": {},
     "output_type": "execute_result"
    }
   ],
   "source": [
    "#Mostrando que existe uma repetição, porém ocorre só uma vez, então não tem como saber se foi o cliente que comprou o mesmo\n",
    "#produto duas vezes o mesmo produto ou se foi erro do sistema:\n",
    "dfVendas[(dfVendas.id_cliente == 559) & (dfVendas.id_loja == 2) & (dfVendas.id_produto == 5)]"
   ]
  },
  {
   "cell_type": "code",
   "execution_count": 28,
   "id": "bc243346-cc09-407e-94f0-bfe13e22f0b2",
   "metadata": {},
   "outputs": [
    {
     "data": {
      "text/plain": [
       "0"
      ]
     },
     "execution_count": 28,
     "metadata": {},
     "output_type": "execute_result"
    }
   ],
   "source": [
    "dfPagamentos.drop('id', axis = 1).duplicated().sum()"
   ]
  },
  {
   "cell_type": "markdown",
   "id": "f9a7dde7-df77-4799-b12d-11969059fe64",
   "metadata": {},
   "source": [
    "## Formato de Dados"
   ]
  },
  {
   "cell_type": "code",
   "execution_count": 30,
   "id": "29c3c010-9763-4269-91e9-790ab74320f0",
   "metadata": {},
   "outputs": [
    {
     "data": {
      "text/html": [
       "<div>\n",
       "<style scoped>\n",
       "    .dataframe tbody tr th:only-of-type {\n",
       "        vertical-align: middle;\n",
       "    }\n",
       "\n",
       "    .dataframe tbody tr th {\n",
       "        vertical-align: top;\n",
       "    }\n",
       "\n",
       "    .dataframe thead th {\n",
       "        text-align: right;\n",
       "    }\n",
       "</style>\n",
       "<table border=\"1\" class=\"dataframe\">\n",
       "  <thead>\n",
       "    <tr style=\"text-align: right;\">\n",
       "      <th></th>\n",
       "      <th>id</th>\n",
       "      <th>nome</th>\n",
       "      <th>sexo</th>\n",
       "      <th>dt_nasc</th>\n",
       "    </tr>\n",
       "  </thead>\n",
       "  <tbody>\n",
       "    <tr>\n",
       "      <th>0</th>\n",
       "      <td>1</td>\n",
       "      <td>Lavinia Sousa</td>\n",
       "      <td>F</td>\n",
       "      <td>1975-05-02</td>\n",
       "    </tr>\n",
       "    <tr>\n",
       "      <th>1</th>\n",
       "      <td>2</td>\n",
       "      <td>Caio Pereira</td>\n",
       "      <td>M</td>\n",
       "      <td>1978-04-16</td>\n",
       "    </tr>\n",
       "    <tr>\n",
       "      <th>2</th>\n",
       "      <td>3</td>\n",
       "      <td>Júlio Azevedo</td>\n",
       "      <td>M</td>\n",
       "      <td>1952-11-04</td>\n",
       "    </tr>\n",
       "    <tr>\n",
       "      <th>3</th>\n",
       "      <td>4</td>\n",
       "      <td>Sarah Goncalves</td>\n",
       "      <td>F</td>\n",
       "      <td>1937-02-24</td>\n",
       "    </tr>\n",
       "    <tr>\n",
       "      <th>4</th>\n",
       "      <td>5</td>\n",
       "      <td>Gabrielle Martins</td>\n",
       "      <td>F</td>\n",
       "      <td>1953-05-06</td>\n",
       "    </tr>\n",
       "    <tr>\n",
       "      <th>...</th>\n",
       "      <td>...</td>\n",
       "      <td>...</td>\n",
       "      <td>...</td>\n",
       "      <td>...</td>\n",
       "    </tr>\n",
       "    <tr>\n",
       "      <th>995</th>\n",
       "      <td>996</td>\n",
       "      <td>Ágatha Ribeiro</td>\n",
       "      <td>F</td>\n",
       "      <td>1946-02-08</td>\n",
       "    </tr>\n",
       "    <tr>\n",
       "      <th>996</th>\n",
       "      <td>997</td>\n",
       "      <td>Laura Oliveira</td>\n",
       "      <td>F</td>\n",
       "      <td>1979-06-15</td>\n",
       "    </tr>\n",
       "    <tr>\n",
       "      <th>997</th>\n",
       "      <td>998</td>\n",
       "      <td>Lara Oliveira</td>\n",
       "      <td>F</td>\n",
       "      <td>1946-03-15</td>\n",
       "    </tr>\n",
       "    <tr>\n",
       "      <th>998</th>\n",
       "      <td>999</td>\n",
       "      <td>Julian Cunha</td>\n",
       "      <td>M</td>\n",
       "      <td>1994-06-20</td>\n",
       "    </tr>\n",
       "    <tr>\n",
       "      <th>999</th>\n",
       "      <td>1000</td>\n",
       "      <td>Gustavo Barbosa</td>\n",
       "      <td>M</td>\n",
       "      <td>1975-12-30</td>\n",
       "    </tr>\n",
       "  </tbody>\n",
       "</table>\n",
       "<p>1000 rows × 4 columns</p>\n",
       "</div>"
      ],
      "text/plain": [
       "       id               nome sexo    dt_nasc\n",
       "0       1      Lavinia Sousa    F 1975-05-02\n",
       "1       2       Caio Pereira    M 1978-04-16\n",
       "2       3      Júlio Azevedo    M 1952-11-04\n",
       "3       4    Sarah Goncalves    F 1937-02-24\n",
       "4       5  Gabrielle Martins    F 1953-05-06\n",
       "..    ...                ...  ...        ...\n",
       "995   996     Ágatha Ribeiro    F 1946-02-08\n",
       "996   997     Laura Oliveira    F 1979-06-15\n",
       "997   998      Lara Oliveira    F 1946-03-15\n",
       "998   999       Julian Cunha    M 1994-06-20\n",
       "999  1000    Gustavo Barbosa    M 1975-12-30\n",
       "\n",
       "[1000 rows x 4 columns]"
      ]
     },
     "execution_count": 30,
     "metadata": {},
     "output_type": "execute_result"
    }
   ],
   "source": [
    "#Convertendo a data para o formato certo utilizado(padrão):\n",
    "dfClientes.dt_nasc = pd.to_datetime(dfClientes.dt_nasc, format = '%m/%d/%Y')\n",
    "dfClientes"
   ]
  },
  {
   "cell_type": "markdown",
   "id": "0053f3a1-d953-4088-b568-05ed4d72afaa",
   "metadata": {},
   "source": [
    "## Indexes"
   ]
  },
  {
   "cell_type": "code",
   "execution_count": 32,
   "id": "c0a27eb5-c4a8-4889-9526-0decf2bdfdd9",
   "metadata": {},
   "outputs": [
    {
     "data": {
      "text/plain": [
       "Index([   1,    2,    3,    4,    5,    6,    7,    8,    9,   10,\n",
       "       ...\n",
       "        991,  992,  993,  994,  995,  996,  997,  998,  999, 1000],\n",
       "      dtype='int64', name='id', length=1000)"
      ]
     },
     "execution_count": 32,
     "metadata": {},
     "output_type": "execute_result"
    }
   ],
   "source": [
    "#Transformando os ids no próprio index, o que foi criado para o banco de dados automaticamente:\n",
    "dfClientes = dfClientes.set_index('id')\n",
    "dfLojas = dfLojas.set_index('id')\n",
    "dfProdutos = dfProdutos.set_index('id')\n",
    "dfVendas = dfVendas.set_index('id')\n",
    "dfPagamentos = dfPagamentos.set_index('id')\n",
    "#sendo necessário buscar com 'index' e não assim: 'dfClientes['id']'\n",
    "#Maneira certa:\n",
    "dfClientes.index"
   ]
  }
 ],
 "metadata": {
  "kernelspec": {
   "display_name": "Python 3 (ipykernel)",
   "language": "python",
   "name": "python3"
  },
  "language_info": {
   "codemirror_mode": {
    "name": "ipython",
    "version": 3
   },
   "file_extension": ".py",
   "mimetype": "text/x-python",
   "name": "python",
   "nbconvert_exporter": "python",
   "pygments_lexer": "ipython3",
   "version": "3.12.4"
  }
 },
 "nbformat": 4,
 "nbformat_minor": 5
}
