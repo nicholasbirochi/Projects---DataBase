{
 "cells": [
  {
   "cell_type": "code",
   "execution_count": 1,
   "id": "3cf486ab-d588-41bc-8db9-9b0bb2b0a144",
   "metadata": {},
   "outputs": [],
   "source": [
    "import pandas as pd"
   ]
  },
  {
   "cell_type": "code",
   "execution_count": 2,
   "id": "bdbb9bf5-10f7-43ee-9bd3-e0a44a5f1fe3",
   "metadata": {},
   "outputs": [],
   "source": [
    "#Também existe a leitura de dentro do arquivo csv, visto que ele consegue armazenar MUITO mais que os de xlsx:\n",
    "#Só um exemplo:\n",
    "dfClientes2 = pd.read_csv('caso_estudo_clientes.csv', sep = ';')\n",
    "#Lendo dentro excel, porém a vizualização dele é básica, por isso funciona, porém o excel só aguenta até '1048576' linhas:\n",
    "dfClientes = pd.read_excel('caso_estudo.xlsx', sheet_name = 'clientes')\n",
    "dfLojas = pd.read_excel('caso_estudo.xlsx', sheet_name = 'lojas')\n",
    "dfPagamentos = pd.read_excel('caso_estudo.xlsx', sheet_name = 'pagamentos')\n",
    "dfProdutos = pd.read_excel('caso_estudo.xlsx', sheet_name = 'produtos')\n",
    "dfVendas = pd.read_excel('caso_estudo.xlsx', sheet_name = 'vendas')"
   ]
  }
 ],
 "metadata": {
  "kernelspec": {
   "display_name": "Python 3 (ipykernel)",
   "language": "python",
   "name": "python3"
  },
  "language_info": {
   "codemirror_mode": {
    "name": "ipython",
    "version": 3
   },
   "file_extension": ".py",
   "mimetype": "text/x-python",
   "name": "python",
   "nbconvert_exporter": "python",
   "pygments_lexer": "ipython3",
   "version": "3.12.4"
  }
 },
 "nbformat": 4,
 "nbformat_minor": 5
}
