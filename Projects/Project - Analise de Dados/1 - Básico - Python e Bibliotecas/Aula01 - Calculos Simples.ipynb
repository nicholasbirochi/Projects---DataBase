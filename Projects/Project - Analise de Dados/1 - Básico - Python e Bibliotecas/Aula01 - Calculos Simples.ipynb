{
 "cells": [
  {
   "cell_type": "markdown",
   "id": "6e5921d1-346c-4586-bce4-05b403ed1de5",
   "metadata": {},
   "source": [
    "# Sessão 01"
   ]
  },
  {
   "cell_type": "code",
   "execution_count": 4,
   "id": "e17a4419-0ef7-4685-902f-a235906d9a9d",
   "metadata": {},
   "outputs": [],
   "source": [
    "x = 1"
   ]
  },
  {
   "cell_type": "code",
   "execution_count": 6,
   "id": "dd9ae21b-80d4-4d6c-91ff-8a78fea8d267",
   "metadata": {},
   "outputs": [],
   "source": [
    "y = 2"
   ]
  },
  {
   "cell_type": "code",
   "execution_count": 8,
   "id": "2d622329-28cf-4d97-bfb3-d9180b17d6db",
   "metadata": {},
   "outputs": [
    {
     "name": "stdout",
     "output_type": "stream",
     "text": [
      "3\n"
     ]
    }
   ],
   "source": [
    "print(x + y)"
   ]
  },
  {
   "cell_type": "markdown",
   "id": "ef7cdf8f-2709-44b7-9932-5af53eedfcd8",
   "metadata": {
    "editable": true,
    "slideshow": {
     "slide_type": ""
    },
    "tags": []
   },
   "source": [
    "# Sessão 02"
   ]
  },
  {
   "cell_type": "code",
   "execution_count": 10,
   "id": "786518ed-17ef-46f7-ab11-769841428064",
   "metadata": {},
   "outputs": [],
   "source": [
    "z = 4"
   ]
  },
  {
   "cell_type": "code",
   "execution_count": 12,
   "id": "861e2aec-498d-46c9-a451-51f03418bb2e",
   "metadata": {},
   "outputs": [
    {
     "name": "stdout",
     "output_type": "stream",
     "text": [
      "8\n"
     ]
    }
   ],
   "source": [
    "print(z*y)"
   ]
  }
 ],
 "metadata": {
  "kernelspec": {
   "display_name": "Python 3 (ipykernel)",
   "language": "python",
   "name": "python3"
  },
  "language_info": {
   "codemirror_mode": {
    "name": "ipython",
    "version": 3
   },
   "file_extension": ".py",
   "mimetype": "text/x-python",
   "name": "python",
   "nbconvert_exporter": "python",
   "pygments_lexer": "ipython3",
   "version": "3.12.4"
  }
 },
 "nbformat": 4,
 "nbformat_minor": 5
}
