{
 "cells": [
  {
   "cell_type": "code",
   "execution_count": 2,
   "id": "5c587aa7-93e4-4fcc-9adc-4a08898a3b83",
   "metadata": {},
   "outputs": [],
   "source": [
    "import minhafuncao as mf"
   ]
  },
  {
   "cell_type": "code",
   "execution_count": 3,
   "id": "794221a5-7818-4a3e-b94e-4bbca7c14bb1",
   "metadata": {},
   "outputs": [
    {
     "name": "stdout",
     "output_type": "stream",
     "text": [
      "Criança Idoso Adulto\n"
     ]
    }
   ],
   "source": [
    "print(mf.faixaIdade(10), mf.faixaIdade(81), mf.faixaIdade(35)) #'faixaIdade' é o nome da função dentro do arquivo 'minhafuncao.py'..."
   ]
  },
  {
   "cell_type": "code",
   "execution_count": 4,
   "id": "f86feccc-d2ac-4e80-b003-aa7cdaff8f7b",
   "metadata": {},
   "outputs": [
    {
     "name": "stdout",
     "output_type": "stream",
     "text": [
      "13 41\n"
     ]
    }
   ],
   "source": [
    "print(mf.somaQuad(2,3), mf.somaQuad(4,5))"
   ]
  }
 ],
 "metadata": {
  "kernelspec": {
   "display_name": "Python 3 (ipykernel)",
   "language": "python",
   "name": "python3"
  },
  "language_info": {
   "codemirror_mode": {
    "name": "ipython",
    "version": 3
   },
   "file_extension": ".py",
   "mimetype": "text/x-python",
   "name": "python",
   "nbconvert_exporter": "python",
   "pygments_lexer": "ipython3",
   "version": "3.12.4"
  }
 },
 "nbformat": 4,
 "nbformat_minor": 5
}
