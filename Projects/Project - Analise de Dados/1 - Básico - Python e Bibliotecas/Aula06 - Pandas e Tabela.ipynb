{
 "cells": [
  {
   "cell_type": "code",
   "execution_count": 54,
   "id": "6ddf35bf-5285-40d3-a787-7a70617218d3",
   "metadata": {},
   "outputs": [],
   "source": [
    "import pandas as pd\n",
    "import numpy as np\n",
    "import copy"
   ]
  },
  {
   "cell_type": "code",
   "execution_count": 56,
   "id": "b43b73db-94b9-4d5e-8e6a-09ce3205c225",
   "metadata": {},
   "outputs": [],
   "source": [
    "tabela = pd.DataFrame({'nome':['Rafael', 'Joao', 'Rafael', 'Maria'], 'nota':[10, 9, 8, 7]})\n",
    "\n",
    "#É possível fazer isso, mas não é recomendado, pois tanto o 'Pandas' quanto o 'Numpy' são Orientado a Objetos, por isso é perdido algumas informações da tabela original;\n",
    "tabela2 = np.array(tabela)\n",
    "\n",
    "tabela3 = copy.deepcopy(tabela)\n",
    "\n",
    "tabela3.loc[0, 'nota'] = 3 #Dessa maneira como foi escrita é alterado dentro da 'tabela' e não somente da 'tabela3', por utilizar de ponteiros para essa ação... por isso\n",
    "#é usado a biblioteca 'copy' para que isso não aconteça!"
   ]
  },
  {
   "cell_type": "code",
   "execution_count": 58,
   "id": "084e9585-bd13-45e1-9bd0-0aa42bd250e2",
   "metadata": {},
   "outputs": [
    {
     "data": {
      "text/plain": [
       "0    10\n",
       "2     8\n",
       "Name: nota, dtype: int64"
      ]
     },
     "execution_count": 58,
     "metadata": {},
     "output_type": "execute_result"
    }
   ],
   "source": [
    "#Comandos para acessar dados específicos dentro da tabela:\n",
    "tabela.nome\n",
    "tabela.nome[2]\n",
    "tabela.loc[2,'nome']\n",
    "\n",
    "#Agrupamento por média:\n",
    "tabela.groupby('nome').mean()\n",
    "\n",
    "#Agrupamento por quantidade:\n",
    "tabela.groupby('nome').count()\n",
    "\n",
    "#Inserindo filtros para a busca da informação, como se fosse um 'when':\n",
    "tabela.nota[tabela.nome == 'Rafael']"
   ]
  }
 ],
 "metadata": {
  "kernelspec": {
   "display_name": "Python 3 (ipykernel)",
   "language": "python",
   "name": "python3"
  },
  "language_info": {
   "codemirror_mode": {
    "name": "ipython",
    "version": 3
   },
   "file_extension": ".py",
   "mimetype": "text/x-python",
   "name": "python",
   "nbconvert_exporter": "python",
   "pygments_lexer": "ipython3",
   "version": "3.12.4"
  }
 },
 "nbformat": 4,
 "nbformat_minor": 5
}
