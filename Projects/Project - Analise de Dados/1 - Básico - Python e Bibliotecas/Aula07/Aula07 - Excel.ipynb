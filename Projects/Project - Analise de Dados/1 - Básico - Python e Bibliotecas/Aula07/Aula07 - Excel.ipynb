{
 "cells": [
  {
   "cell_type": "code",
   "execution_count": 1,
   "id": "679bf0e0-16be-4b5e-aaff-81080d799af5",
   "metadata": {},
   "outputs": [],
   "source": [
    "import pandas as pd"
   ]
  },
  {
   "cell_type": "code",
   "execution_count": 13,
   "id": "bcddd8fb-0a35-435c-94f8-19fc71c94b23",
   "metadata": {},
   "outputs": [
    {
     "name": "stdout",
     "output_type": "stream",
     "text": [
      "      nome  semestre  nota\n",
      "0   rafael         1     7\n",
      "1     joao         1     4\n",
      "2    maria         1     9\n",
      "3   mateus         1     8\n",
      "4    pedro         1     7\n",
      "5      ana         1    10\n",
      "6   rafael         2    10\n",
      "7     joao         2     8\n",
      "8    maria         2     6\n",
      "9   mateus         2     9\n",
      "10   pedro         2     8\n",
      "11     ana         2     6\n",
      "     nome  idade\n",
      "0  rafael     15\n",
      "1    joao     10\n",
      "2   maria     18\n",
      "3  mateus     12\n",
      "4   pedro     11\n",
      "5     ana     19\n"
     ]
    }
   ],
   "source": [
    "dados_pessoas = pd.read_excel('C:/Users/AMD/OneDrive - Fundação Salvador Arena/Nicholas/Cursos/Cursos concluidos/Trilha - AnalistadeDados/Curso Analise de Dados - Iniciante/Aulas/Aula7/dados.xlsx', sheet_name='pessoas')\n",
    "dados_notas = pd.read_excel('C:/Users/AMD/OneDrive - Fundação Salvador Arena/Nicholas/Cursos/Cursos concluidos/Trilha - AnalistadeDados/Curso Analise de Dados - Iniciante/Aulas/Aula7/dados.xlsx', sheet_name='notas')\n",
    "print(dados_notas)\n",
    "print(dados_pessoas)"
   ]
  },
  {
   "cell_type": "code",
   "execution_count": 15,
   "id": "3d7907a6-cdda-4f33-bd15-4920389a1177",
   "metadata": {},
   "outputs": [
    {
     "name": "stdout",
     "output_type": "stream",
     "text": [
      "nome\n",
      "ana       8.0\n",
      "joao      6.0\n",
      "maria     7.5\n",
      "mateus    8.5\n",
      "pedro     7.5\n",
      "rafael    8.5\n",
      "Name: nota, dtype: float64\n"
     ]
    }
   ],
   "source": [
    "dados_todos = dados_notas.set_index('nome').join(dados_pessoas.set_index('nome'))\n",
    "\n",
    "medias = dados_todos.groupby('nome').nota.mean()\n",
    "\n",
    "print(medias)\n",
    "medias.to_excel('C:/Users/AMD/OneDrive - Fundação Salvador Arena/Nicholas/Cursos/Cursos concluidos/Trilha - AnalistadeDados/Curso Analise de Dados - Iniciante/Aulas/Aula7/medias.xlsx')"
   ]
  },
  {
   "cell_type": "code",
   "execution_count": 17,
   "id": "958c61ed-1151-4802-9b2b-fcd609003f61",
   "metadata": {},
   "outputs": [
    {
     "name": "stdout",
     "output_type": "stream",
     "text": [
      "nome\n",
      "ana       10\n",
      "joao       8\n",
      "maria      9\n",
      "mateus     9\n",
      "pedro      8\n",
      "rafael    10\n",
      "Name: nota, dtype: int64\n"
     ]
    }
   ],
   "source": [
    "maxima = dados_todos.groupby('nome').nota.max()\n",
    "\n",
    "print(maxima)\n",
    "medias.to_excel('C:/Users/AMD/OneDrive - Fundação Salvador Arena/Nicholas/Cursos/Cursos concluidos/Trilha - AnalistadeDados/Curso Analise de Dados - Iniciante/Aulas/Aula7/maximas.xlsx')"
   ]
  }
 ],
 "metadata": {
  "kernelspec": {
   "display_name": "Python 3 (ipykernel)",
   "language": "python",
   "name": "python3"
  },
  "language_info": {
   "codemirror_mode": {
    "name": "ipython",
    "version": 3
   },
   "file_extension": ".py",
   "mimetype": "text/x-python",
   "name": "python",
   "nbconvert_exporter": "python",
   "pygments_lexer": "ipython3",
   "version": "3.12.4"
  }
 },
 "nbformat": 4,
 "nbformat_minor": 5
}
