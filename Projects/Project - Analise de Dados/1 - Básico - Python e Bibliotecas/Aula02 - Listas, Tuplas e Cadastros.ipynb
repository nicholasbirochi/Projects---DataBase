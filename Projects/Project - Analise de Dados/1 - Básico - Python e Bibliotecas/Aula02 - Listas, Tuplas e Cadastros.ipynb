{
 "cells": [
  {
   "cell_type": "code",
   "execution_count": 4,
   "id": "276d83d6-23c1-4e4b-ab5d-c3898e366f76",
   "metadata": {},
   "outputs": [],
   "source": [
    "#Listas: É um conjunto de informação que pode possuir uma dimensão ou mais, além de ppoder receber alterações durante o código;\n",
    "nomes = ['Rafael','Maria','Ana']\n",
    "idades = [10, 20, 15]\n",
    "\n",
    "#Tuplas: É uma informação que não pode ser alterada durante o código;\n",
    "sexo = ['M', 'F', 'O']\n",
    "\n",
    "#Cadastro: Você não tem uma dependência de um com outro dentro da tabela, além de poder guardar informações que você pode guardar e\n",
    "#acessar a informação que não é tabulação, de maneira simples;\n",
    "cadastro = {\n",
    "    'nomes': nomes,\n",
    "    'idades': idades,\n",
    "    'cidade': ['A', 'B', 'C']\n",
    "}"
   ]
  },
  {
   "cell_type": "code",
   "execution_count": 8,
   "id": "b8742311-cf51-40c3-b3c6-6932f2457af1",
   "metadata": {},
   "outputs": [
    {
     "data": {
      "text/plain": [
       "('Maria', 15, 'Rafael')"
      ]
     },
     "execution_count": 8,
     "metadata": {},
     "output_type": "execute_result"
    }
   ],
   "source": [
    "nomes[1], idades[2], nomes[0]"
   ]
  },
  {
   "cell_type": "code",
   "execution_count": 10,
   "id": "fbfbcb5b-cf45-45ae-a99e-278d7096229e",
   "metadata": {},
   "outputs": [
    {
     "data": {
      "text/plain": [
       "'F'"
      ]
     },
     "execution_count": 10,
     "metadata": {},
     "output_type": "execute_result"
    }
   ],
   "source": [
    "sexo[1]"
   ]
  },
  {
   "cell_type": "code",
   "execution_count": 30,
   "id": "2ac10a9e-99b2-4c5e-8525-5c8b48c4efe0",
   "metadata": {},
   "outputs": [
    {
     "data": {
      "text/plain": [
       "('Rafael', 45, ['A', 'B', 'C'])"
      ]
     },
     "execution_count": 30,
     "metadata": {},
     "output_type": "execute_result"
    }
   ],
   "source": [
    "cadastro['nomes'][0], sum(cadastro['idades']), cadastro['cidade']"
   ]
  }
 ],
 "metadata": {
  "kernelspec": {
   "display_name": "Python 3 (ipykernel)",
   "language": "python",
   "name": "python3"
  },
  "language_info": {
   "codemirror_mode": {
    "name": "ipython",
    "version": 3
   },
   "file_extension": ".py",
   "mimetype": "text/x-python",
   "name": "python",
   "nbconvert_exporter": "python",
   "pygments_lexer": "ipython3",
   "version": "3.12.4"
  }
 },
 "nbformat": 4,
 "nbformat_minor": 5
}
