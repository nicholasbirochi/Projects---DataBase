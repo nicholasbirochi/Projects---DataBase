{
 "cells": [
  {
   "cell_type": "code",
   "execution_count": 1,
   "id": "9a2b9b7a-190b-429b-a4e5-bd19d0706c5b",
   "metadata": {},
   "outputs": [],
   "source": [
    "import numpy as np"
   ]
  },
  {
   "cell_type": "code",
   "execution_count": 11,
   "id": "0ab678b0-c3e7-4733-89b9-7e53f470e157",
   "metadata": {},
   "outputs": [
    {
     "name": "stdout",
     "output_type": "stream",
     "text": [
      "[ 5 10]\n"
     ]
    }
   ],
   "source": [
    "idades = np.array([10,15,20,18,20])\n",
    "notas = np.array([9,8,5,7,10])\n",
    "\n",
    "print(notas[idades==20])"
   ]
  },
  {
   "cell_type": "code",
   "execution_count": 29,
   "id": "0e36ece0-1b54-47f6-b3a0-daa3e1693031",
   "metadata": {},
   "outputs": [
    {
     "name": "stdout",
     "output_type": "stream",
     "text": [
      "16.6\n",
      "0.5403023058681398\n",
      "inf\n"
     ]
    }
   ],
   "source": [
    "#Média:\n",
    "print(np.mean(idades))\n",
    "#cos:\n",
    "print(np.cos(1))\n",
    "#Número infinito:\n",
    "x = np.inf\n",
    "print(x)"
   ]
  },
  {
   "cell_type": "code",
   "execution_count": 31,
   "id": "2eca698f-1308-4f15-b364-afc9ec639317",
   "metadata": {},
   "outputs": [
    {
     "data": {
      "text/plain": [
       "950"
      ]
     },
     "execution_count": 31,
     "metadata": {},
     "output_type": "execute_result"
    }
   ],
   "source": [
    "#Lista de segunda dimensão:\n",
    "salario = np.array([[1000,1200,1300],[800,900,950],[2000,2100,2110]])\n",
    "\n",
    "salario[1,2]"
   ]
  },
  {
   "cell_type": "code",
   "execution_count": 35,
   "id": "63d1188f-bb55-45a7-9b03-201706452a0f",
   "metadata": {},
   "outputs": [
    {
     "name": "stdout",
     "output_type": "stream",
     "text": [
      "[[0. 0. 0.]\n",
      " [0. 0. 0.]\n",
      " [0. 0. 0.]\n",
      " [0. 0. 0.]]\n",
      "[[1. 1.]\n",
      " [1. 1.]\n",
      " [1. 1.]]\n"
     ]
    }
   ],
   "source": [
    "#Matriz:\n",
    "matriz = np.zeros([4,3])\n",
    "matriz2 = np.ones([3,2])\n",
    "print(matriz)\n",
    "print(matriz2)"
   ]
  }
 ],
 "metadata": {
  "kernelspec": {
   "display_name": "Python 3 (ipykernel)",
   "language": "python",
   "name": "python3"
  },
  "language_info": {
   "codemirror_mode": {
    "name": "ipython",
    "version": 3
   },
   "file_extension": ".py",
   "mimetype": "text/x-python",
   "name": "python",
   "nbconvert_exporter": "python",
   "pygments_lexer": "ipython3",
   "version": "3.12.4"
  }
 },
 "nbformat": 4,
 "nbformat_minor": 5
}
