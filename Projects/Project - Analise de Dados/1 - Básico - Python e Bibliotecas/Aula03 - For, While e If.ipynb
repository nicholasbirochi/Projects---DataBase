{
 "cells": [
  {
   "cell_type": "code",
   "execution_count": 7,
   "id": "7e595c91-da27-445d-8608-7757eb18749b",
   "metadata": {},
   "outputs": [],
   "source": [
    "nomes = ['Rafael','Maria','Ana']\n",
    "idades = [10, 20, 15]\n",
    "\n",
    "sexo = ['M', 'F', 'O']\n",
    "\n",
    "cadastro = {\n",
    "    'nomes': nomes,\n",
    "    'idades': idades,\n",
    "    'cidade': ['A', 'B', 'C']\n",
    "}"
   ]
  },
  {
   "cell_type": "code",
   "execution_count": 9,
   "id": "66b3b198-da6a-4fe6-8810-72433c5af0d2",
   "metadata": {},
   "outputs": [
    {
     "name": "stdout",
     "output_type": "stream",
     "text": [
      "Rafael\n",
      "Maria\n",
      "Ana\n"
     ]
    }
   ],
   "source": [
    "for nome in nomes:\n",
    "    print(nome)"
   ]
  },
  {
   "cell_type": "code",
   "execution_count": 11,
   "id": "d458d32f-ed9c-4993-b717-33d92eb74b47",
   "metadata": {},
   "outputs": [
    {
     "name": "stdout",
     "output_type": "stream",
     "text": [
      "10\n",
      "20\n"
     ]
    }
   ],
   "source": [
    "for idade in idades:\n",
    "    if idade % 2 == 0: print(idade)"
   ]
  },
  {
   "cell_type": "code",
   "execution_count": 13,
   "id": "8ffd9d30-813f-4e2f-9004-b67e7bd0f18e",
   "metadata": {},
   "outputs": [
    {
     "name": "stdout",
     "output_type": "stream",
     "text": [
      "10\n"
     ]
    }
   ],
   "source": [
    "i = 0\n",
    "idade = idades[i]\n",
    "while idade <= 10:\n",
    "    print(idade)\n",
    "    i += 1\n",
    "    idade = idades[i]"
   ]
  }
 ],
 "metadata": {
  "kernelspec": {
   "display_name": "Python 3 (ipykernel)",
   "language": "python",
   "name": "python3"
  },
  "language_info": {
   "codemirror_mode": {
    "name": "ipython",
    "version": 3
   },
   "file_extension": ".py",
   "mimetype": "text/x-python",
   "name": "python",
   "nbconvert_exporter": "python",
   "pygments_lexer": "ipython3",
   "version": "3.12.4"
  }
 },
 "nbformat": 4,
 "nbformat_minor": 5
}
